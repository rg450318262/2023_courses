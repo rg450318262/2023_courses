{
 "cells": [
  {
   "cell_type": "markdown",
   "metadata": {},
   "source": [
    "1. Lynxdata (2 points)\n",
    "Lynxes seem to be related to a rather interesting phenomena that we will be examining more later. For now, download a Canadian dataset that describes the number of lynxes by year (the years are in the column 'year' and lynx count in the column 'lynx'). Find out the number of lynxes in the leap years of the 20th-century (1904,  1908,  1912,  1916,  1920,  1924,  1928 and 1932). In other words, write a program that prints out the number of lynxes for each of these years."
   ]
  },
  {
   "cell_type": "code",
   "execution_count": 7,
   "metadata": {},
   "outputs": [
    {
     "data": {
      "text/plain": [
       "array([(1821.,  269.), (1822.,  321.), (1823.,  585.), (1824.,  871.),\n",
       "       (1825., 1475.), (1826., 2821.), (1827., 3928.), (1828., 5943.),\n",
       "       (1829., 4950.), (1830., 2577.), (1831.,  523.), (1832.,   98.),\n",
       "       (1833.,  184.), (1834.,  279.), (1835.,  409.), (1836., 2285.),\n",
       "       (1837., 2685.), (1838., 3409.), (1839., 1824.), (1840.,  409.),\n",
       "       (1841.,  151.), (1842.,   45.), (1843.,   68.), (1844.,  213.),\n",
       "       (1845.,  546.), (1846., 1033.), (1847., 2129.), (1848., 2536.),\n",
       "       (1849.,  957.), (1850.,  361.), (1851.,  377.), (1852.,  225.),\n",
       "       (1853.,  360.), (1854.,  731.), (1855., 1638.), (1856., 2725.),\n",
       "       (1857., 2871.), (1858., 2119.), (1859.,  684.), (1860.,  299.),\n",
       "       (1861.,  236.), (1862.,  245.), (1863.,  552.), (1864., 1623.),\n",
       "       (1865., 3311.), (1866., 6721.), (1867., 4245.), (1868.,  687.),\n",
       "       (1869.,  255.), (1870.,  473.), (1871.,  353.), (1872.,  784.),\n",
       "       (1873., 1594.), (1874., 1676.), (1875., 2251.), (1876., 1426.),\n",
       "       (1877.,  756.), (1878.,  299.), (1879.,  201.), (1880.,  229.),\n",
       "       (1881.,  469.), (1882.,  736.), (1883., 2042.), (1884., 2811.),\n",
       "       (1885., 4431.), (1886., 2511.), (1887.,  389.), (1888.,   73.),\n",
       "       (1889.,   39.), (1890.,   49.), (1891.,   59.), (1892.,  188.),\n",
       "       (1893.,  377.), (1894., 1292.), (1895., 4031.), (1896., 3495.),\n",
       "       (1897.,  587.), (1898.,  105.), (1899.,  153.), (1900.,  387.),\n",
       "       (1901.,  758.), (1902., 1307.), (1903., 3465.), (1904., 6991.),\n",
       "       (1905., 6313.), (1906., 3794.), (1907., 1836.), (1908.,  345.),\n",
       "       (1909.,  382.), (1910.,  808.), (1911., 1388.), (1912., 2713.),\n",
       "       (1913., 3800.), (1914., 3091.), (1915., 2985.), (1916., 3790.),\n",
       "       (1917.,  674.), (1918.,   81.), (1919.,   80.), (1920.,  108.),\n",
       "       (1921.,  229.), (1922.,  399.), (1923., 1132.), (1924., 2432.),\n",
       "       (1925., 3574.), (1926., 2935.), (1927., 1537.), (1928.,  529.),\n",
       "       (1929.,  485.), (1930.,  662.), (1931., 1000.), (1932., 1590.),\n",
       "       (1933., 2657.), (1934., 3396.)],\n",
       "      dtype=[('year', '<f8'), ('lynxcount', '<f8')])"
      ]
     },
     "execution_count": 7,
     "metadata": {},
     "output_type": "execute_result"
    }
   ],
   "source": [
    "import numpy as np\n",
    "lynx = np.genfromtxt(\"data/lynx.csv\", names = True, delimiter = \",\")"
   ]
  },
  {
   "cell_type": "code",
   "execution_count": 31,
   "metadata": {},
   "outputs": [
    {
     "name": "stdout",
     "output_type": "stream",
     "text": [
      "<generator object <genexpr> at 0x7fea50d1ddd0>\n"
     ]
    }
   ],
   "source": [
    "lynx_leap = lynx[\"year\"] % 4 == 0 \n",
    "lynx_1900 = lynx[\"year\"] >= 1900\n",
    "lynx_1900leap = lynx_leap & lynx_1900\n",
    "a = lynx[\"year\"][lynx_1900leap]\n",
    "b = lynx[\"lynxcount\"][lynx_1900leap]\n",
    "print(f\"The year of {a[k]} has {b[k]} lynxes\" for k in range(len(a)))"
   ]
  },
  {
   "cell_type": "code",
   "execution_count": 14,
   "metadata": {},
   "outputs": [
    {
     "data": {
      "text/plain": [
       "array([1824., 1828., 1832., 1836., 1840., 1844., 1848., 1852., 1856.,\n",
       "       1860., 1864., 1868., 1872., 1876., 1880., 1884., 1888., 1892.,\n",
       "       1896., 1900., 1904., 1908., 1912., 1916., 1920., 1924., 1928.,\n",
       "       1932.])"
      ]
     },
     "execution_count": 14,
     "metadata": {},
     "output_type": "execute_result"
    }
   ],
   "source": []
  },
  {
   "cell_type": "markdown",
   "metadata": {},
   "source": []
  }
 ],
 "metadata": {
  "kernelspec": {
   "display_name": "Python 3.9.13 ('base')",
   "language": "python",
   "name": "python3"
  },
  "language_info": {
   "codemirror_mode": {
    "name": "ipython",
    "version": 3
   },
   "file_extension": ".py",
   "mimetype": "text/x-python",
   "name": "python",
   "nbconvert_exporter": "python",
   "pygments_lexer": "ipython3",
   "version": "3.9.13"
  },
  "orig_nbformat": 4,
  "vscode": {
   "interpreter": {
    "hash": "df0455e0fcf6e3dc06d177d50c97e8ac4f8b65a632275afc508899eb87604c24"
   }
  }
 },
 "nbformat": 4,
 "nbformat_minor": 2
}
